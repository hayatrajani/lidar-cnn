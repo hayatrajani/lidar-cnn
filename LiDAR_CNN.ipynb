{
  "nbformat": 4,
  "nbformat_minor": 0,
  "metadata": {
    "colab": {
      "name": "LiDAR-CNN.ipynb",
      "provenance": [],
      "collapsed_sections": [],
      "toc_visible": true,
      "include_colab_link": true
    },
    "kernelspec": {
      "name": "python3",
      "display_name": "Python 3"
    },
    "accelerator": "GPU"
  },
  "cells": [
    {
      "cell_type": "markdown",
      "metadata": {
        "id": "view-in-github",
        "colab_type": "text"
      },
      "source": [
        "<a href=\"https://colab.research.google.com/github/hayatrajani/lidar-cnn/blob/main/LiDAR_CNN.ipynb\" target=\"_parent\"><img src=\"https://colab.research.google.com/assets/colab-badge.svg\" alt=\"Open In Colab\"/></a>"
      ]
    },
    {
      "cell_type": "markdown",
      "metadata": {
        "id": "w3_EtaXsVEPo"
      },
      "source": [
        "#Mount Drive"
      ]
    },
    {
      "cell_type": "code",
      "metadata": {
        "id": "mNHF7QEkVGs6",
        "outputId": "37a37940-24a1-4cfb-a45c-7ad933b2175f",
        "colab": {
          "base_uri": "https://localhost:8080/"
        }
      },
      "source": [
        "from google.colab import drive\n",
        "drive.mount('/content/gdrive')\n",
        "root_dir = '/content/gdrive/My Drive/'"
      ],
      "execution_count": 1,
      "outputs": [
        {
          "output_type": "stream",
          "text": [
            "Mounted at /content/gdrive\n"
          ],
          "name": "stdout"
        }
      ]
    },
    {
      "cell_type": "markdown",
      "metadata": {
        "id": "qaz0r1qtQxd_"
      },
      "source": [
        "#Import Modules"
      ]
    },
    {
      "cell_type": "code",
      "metadata": {
        "id": "mzsUyvTWQ6ae"
      },
      "source": [
        "import torch\n",
        "import torch.nn as nn\n",
        "import torch.optim as optim\n",
        "from torch.optim import lr_scheduler\n",
        "from torch.utils.data.sampler import Sampler\n",
        "from torch.utils.data.dataset import Subset\n",
        "from torch.utils.data import DataLoader, random_split\n",
        "from torchvision import datasets, models, transforms\n",
        "from sklearn.metrics import classification_report, cohen_kappa_score\n",
        "from collections import Counter, OrderedDict, defaultdict\n",
        "import matplotlib.pyplot as plt\n",
        "from PIL import Image\n",
        "import numpy as np\n",
        "import time\n",
        "import os\n",
        "import copy\n",
        "import csv"
      ],
      "execution_count": 2,
      "outputs": []
    },
    {
      "cell_type": "markdown",
      "metadata": {
        "id": "0jTm3NZy3FLm"
      },
      "source": [
        "#Preprocess Data"
      ]
    },
    {
      "cell_type": "markdown",
      "metadata": {
        "id": "QTjUZeQlgexi"
      },
      "source": [
        "##Fetch the Dataset"
      ]
    },
    {
      "cell_type": "code",
      "metadata": {
        "id": "NThqKNXc3OQE"
      },
      "source": [
        "!unzip -q \"$root_dir\"\"lidar_dataset.zip\"\n",
        "data_dir = '/content/dataset/'"
      ],
      "execution_count": 3,
      "outputs": []
    },
    {
      "cell_type": "markdown",
      "metadata": {
        "id": "mppFVpjYgrdr"
      },
      "source": [
        "##Compute Mean and Standard Deviation for Normalization"
      ]
    },
    {
      "cell_type": "code",
      "metadata": {
        "id": "g-oeTw8wgsl_"
      },
      "source": [
        "def computeDatasetStats(loader):\n",
        "    mean, std  = 0, 0\n",
        "    samples = 0.\n",
        "    for images, _ in loader:\n",
        "        mean += torch.mean(images, dim=(0,2,3))\n",
        "        std += torch.std(images, dim=(0,2,3))\n",
        "        samples += 1\n",
        "    return mean/samples, std/samples\n",
        "\n",
        "data_transforms = transforms.Compose([\n",
        "            transforms.Grayscale(num_output_channels=1),\n",
        "            transforms.ToTensor()\n",
        "        ])\n",
        "train_data = datasets.ImageFolder(os.path.join(data_dir,'train'), data_transforms)\n",
        "train_dataloader = DataLoader(train_data, batch_size=1024, num_workers=1)\n",
        "\n",
        "mean, std = computeDatasetStats(train_dataloader)"
      ],
      "execution_count": 4,
      "outputs": []
    },
    {
      "cell_type": "markdown",
      "metadata": {
        "id": "_WKME1o4g0Kk"
      },
      "source": [
        "##Define and Apply Transformations"
      ]
    },
    {
      "cell_type": "code",
      "metadata": {
        "id": "iyLKjgyEg1Na"
      },
      "source": [
        "data_transforms = {\n",
        "    'train': transforms.Compose([\n",
        "        transforms.Grayscale(num_output_channels=1),\n",
        "        transforms.ToTensor(),\n",
        "        #transforms.Normalize(mean, std)\n",
        "    ]),\n",
        "    'test': transforms.Compose([\n",
        "        transforms.Grayscale(num_output_channels=1),\n",
        "        transforms.ToTensor()\n",
        "    ]),\n",
        "}\n",
        "\n",
        "data = {x: datasets.ImageFolder(os.path.join(data_dir,x), data_transforms[x])\n",
        "            for x in ['train','test']}\n",
        "\n",
        "data_sizes = {x: len(data[x]) for x in ['train','test']}\n",
        "\n",
        "class_names = data['train'].classes\n",
        "num_classes = len(class_names)"
      ],
      "execution_count": 5,
      "outputs": []
    },
    {
      "cell_type": "markdown",
      "metadata": {
        "id": "SO34Uc4fg3Pv"
      },
      "source": [
        "##Split Data into Training and Validation Sets"
      ]
    },
    {
      "cell_type": "code",
      "metadata": {
        "id": "6yODp4K8g6iy"
      },
      "source": [
        "train_data_len = int(0.8*data_sizes['train'])\n",
        "val_data_len = data_sizes['train']-train_data_len\n",
        "data['train'], data['val'] = random_split(data['train'],(train_data_len,val_data_len))\n",
        "data_sizes['train'] = train_data_len\n",
        "data_sizes['val'] = val_data_len"
      ],
      "execution_count": 6,
      "outputs": []
    },
    {
      "cell_type": "markdown",
      "metadata": {
        "id": "MGUQB04mg8lL"
      },
      "source": [
        "##Sample and Load the Datasets"
      ]
    },
    {
      "cell_type": "code",
      "metadata": {
        "id": "ZWrYuAP0hAh8"
      },
      "source": [
        "class ImbalancedDatasetSampler(Sampler):\n",
        "    \"\"\"Samples elements randomly from a given list of indices for imbalanced dataset\n",
        "    Arguments:\n",
        "        indices (list, optional): a list of indices\n",
        "        num_samples (int, optional): number of samples to draw\n",
        "    Adapted From:\n",
        "        https://github.com/ufoym/imbalanced-dataset-sampler\n",
        "    \"\"\"\n",
        "\n",
        "    def __init__(self, dataset, indices=None, num_samples=None):\n",
        "        # if indices is not provided, \n",
        "        # all elements in the dataset will be considered\n",
        "        self.indices = list(range(len(dataset))) \\\n",
        "            if indices is None else indices\n",
        "        # if num_samples is not provided, \n",
        "        # draw `len(indices)` samples in each iteration\n",
        "        self.num_samples = len(self.indices) \\\n",
        "            if num_samples is None else num_samples\n",
        "        # distribution of classes in the dataset \n",
        "        label_to_count = {}\n",
        "        for idx in self.indices:\n",
        "            label = self._get_label(dataset, idx)\n",
        "            if label in label_to_count:\n",
        "                label_to_count[label] += 1\n",
        "            else:\n",
        "                label_to_count[label] = 1\n",
        "        # weight for each sample\n",
        "        weights = [1.0 / label_to_count[self._get_label(dataset, idx)]\n",
        "                   for idx in self.indices]\n",
        "        self.weights = torch.DoubleTensor(weights)\n",
        "    \n",
        "    def _get_label(self, dataset, idx):\n",
        "        dataset_type = type(dataset)\n",
        "        if dataset_type is datasets.MNIST:\n",
        "            return dataset.train_labels[idx].item()\n",
        "        elif dataset_type is datasets.ImageFolder:\n",
        "            return dataset.imgs[idx][1]\n",
        "        elif dataset_type is Subset:\n",
        "            return dataset[idx][1]\n",
        "        else:\n",
        "            raise NotImplementedError\n",
        "\n",
        "    def __iter__(self):\n",
        "        return (self.indices[i] for i in torch.multinomial(\n",
        "                    self.weights, self.num_samples, replacement=True))\n",
        "        \n",
        "    def __len__(self):\n",
        "        return self.num_samples\n",
        "\n",
        "\n",
        "samples = {x: max(Counter((lbl for _,lbl in data[x])).values())*num_classes\n",
        "                for x in ['train','val']}\n",
        "samples['test'] = max(Counter((data['test'].targets)).values())*num_classes\n",
        "samplers = {x: ImbalancedDatasetSampler(data[x], num_samples=samples[x])\n",
        "                for x in ['train','val','test']}\n",
        "dataloaders = {x: DataLoader(data[x], batch_size=128, num_workers=1, sampler=samplers[x])\n",
        "                for x in ['train','val','test']}\n",
        "\n",
        "\n",
        "device = torch.device(\"cuda:0\" if torch.cuda.is_available() else \"cpu\")"
      ],
      "execution_count": 7,
      "outputs": []
    },
    {
      "cell_type": "markdown",
      "metadata": {
        "id": "X9Yn-IfXmYt6"
      },
      "source": [
        "#Or Fetch and Preprocess Test Data (to Evaluate Pretrained Models)"
      ]
    },
    {
      "cell_type": "code",
      "metadata": {
        "id": "XwA-0WaRmdhQ"
      },
      "source": [
        "!unzip -q \"$root_dir\"\"lidar_test_dataset.zip\"\n",
        "test_data_dir = '/content/test_dataset/'\n",
        "\n",
        "data_transforms = transforms.Compose([\n",
        "            transforms.Grayscale(num_output_channels=1),\n",
        "            transforms.ToTensor(),\n",
        "        ])\n",
        "test_data = datasets.ImageFolder(test_data_dir, data_transforms)\n",
        "class_names = test_data.classes\n",
        "\n",
        "test_dataloader = DataLoader(test_data, batch_size=128, shuffle=True)"
      ],
      "execution_count": null,
      "outputs": []
    },
    {
      "cell_type": "markdown",
      "metadata": {
        "id": "HX3DPh6HXGDb"
      },
      "source": [
        "#Define the Network Architecture"
      ]
    },
    {
      "cell_type": "code",
      "metadata": {
        "id": "xUm0uzWGXW_P"
      },
      "source": [
        "class LiNet(nn.Module):\n",
        "    def __init__(self):\n",
        "        super(LiNet, self).__init__()\n",
        "        self.features = nn.Sequential(OrderedDict([\n",
        "                            ('conv0', nn.Conv2d(1,6,9)),\n",
        "                            ('relu0', nn.ReLU()),\n",
        "                            ('pool0', nn.AvgPool2d(2)),\n",
        "                            ('bn0', nn.BatchNorm2d(6)),\n",
        "                            ('conv1', nn.Conv2d(6,12,9)),\n",
        "                            ('relu1', nn.ReLU()),\n",
        "                            ('pool1', nn.AvgPool2d(2)),\n",
        "                            ('bn1', nn.BatchNorm2d(12))\n",
        "                        ]))\n",
        "        self.classifier = nn.Sequential(OrderedDict([\n",
        "                            ('fc0', nn.Linear(19*19*12,100)),\n",
        "                            ('relu', nn.ReLU()),\n",
        "                            ('bn', nn.BatchNorm1d(100)),\n",
        "                            ('fc1', nn.Linear(100,3)),\n",
        "                            ('softmax', nn.Softmax(dim=1)),\n",
        "                            ('fc2', nn.Linear(3,3))\n",
        "                        ]))\n",
        "    def forward(self, x):\n",
        "        out = self.features(x)\n",
        "        out = out.view(out.size(0),-1)\n",
        "        out = self.classifier(out)\n",
        "        return out\n",
        "\n",
        "net = LiNet()"
      ],
      "execution_count": 9,
      "outputs": []
    },
    {
      "cell_type": "markdown",
      "metadata": {
        "id": "etO5APrc3Waq"
      },
      "source": [
        "##And (optionally) load a pretrained model"
      ]
    },
    {
      "cell_type": "code",
      "metadata": {
        "id": "1AaQfNIt3fni"
      },
      "source": [
        "state_dict = torch.load(root_dir+'LiNet-adam_lr1e4_decay1e6.pth')\n",
        "net.load_state_dict(state_dict)\n",
        "net.eval()"
      ],
      "execution_count": null,
      "outputs": []
    },
    {
      "cell_type": "markdown",
      "metadata": {
        "id": "kMXYI0oz3ujJ"
      },
      "source": [
        "#Train and Validate"
      ]
    },
    {
      "cell_type": "code",
      "metadata": {
        "id": "gGvjQtXz3wh0",
        "outputId": "68c7eb5f-2e02-4ed8-907a-cb305d8bee9c",
        "colab": {
          "base_uri": "https://localhost:8080/",
          "height": 1000
        }
      },
      "source": [
        "def save_checkpoint(scheduler, optimizer, model, loss_history, epoch, filename):\n",
        "    checkpoint_dict = {\n",
        "        'scheduler': scheduler.state_dict(),\n",
        "        'optimizer': optimizer.state_dict(),\n",
        "        'model': model.state_dict(),\n",
        "        'loss_history': loss_history,\n",
        "        'epoch': epoch\n",
        "    }\n",
        "    torch.save(checkpoint_dict, filename)\n",
        "\n",
        "\n",
        "def load_checkpoint(scheduler, optimizer, model, filename):\n",
        "    checkpoint_dict = torch.load(filename)\n",
        "    model.load_state_dict(checkpoint_dict['model'])\n",
        "    if optimizer is not None:\n",
        "        optimizer.load_state_dict(checkpoint_dict['optimizer'])\n",
        "    if scheduler is not None:\n",
        "        scheduler.load_state_dict(checkpoint_dict['scheduler'])\n",
        "    return checkpoint_dict['epoch'], checkpoint_dict['loss_history']\n",
        "\n",
        "\n",
        "def plot_loss(loss_history, epochs):\n",
        "    plt.plot(range(epochs), loss_history['train'], 'b', label='Training loss')\n",
        "    plt.plot(range(epochs), loss_history['val'], 'g', label='Validation loss')\n",
        "    plt.title('Training v/s Validation Loss')\n",
        "    plt.xlabel('Epochs')\n",
        "    plt.ylabel('Loss')\n",
        "    plt.legend()\n",
        "    plt.show()\n",
        "\n",
        "\n",
        "def train_model(model, criterion, optimizer, scheduler, epochs=25, \n",
        "                logging=False, checkpointing=False, resume_from_checkpoint=None):\n",
        "    since = time.time()\n",
        "\n",
        "    start = 0\n",
        "    loss_history = defaultdict(list)\n",
        "    best_model_wts = copy.deepcopy(model.state_dict())\n",
        "    best_acc = 0.0\n",
        "    min_loss = np.Inf\n",
        "    epochs_no_improve = 0\n",
        "\n",
        "    if resume_from_checkpoint:\n",
        "        try:\n",
        "            start, loss_history = load_checkpoint(scheduler, optimizer, model, resume_from_checkpoint)\n",
        "        except FileNotFoundError:\n",
        "            print('Checkpoint not found! Training from scratch...\\n')\n",
        "        except:\n",
        "            print('Error loading checkpoint! Training from scratch...\\n')\n",
        "\n",
        "    if checkpointing:\n",
        "        checkpoint_dir = root_dir+'checkpoints/LiNet/'\n",
        "        os.makedirs(checkpoint_dir, exist_ok=True)\n",
        "        print('Saving checkpoints in: '+checkpoint_dir)\n",
        "\n",
        "    if logging:\n",
        "        logs_dir = root_dir+'logs/LiNet/'\n",
        "        os.makedirs(logs_dir, exist_ok=True)\n",
        "        log_file_path = logs_dir+'LiNet-adam_lr1e4_decay1e6-log.txt'\n",
        "        log_file = open(log_file_path, 'w')\n",
        "        print('Logging to: '+log_file_path)\n",
        "\n",
        "    for epoch in range(start, epochs):\n",
        "        print('\\nEpoch {}/{}'.format(epoch+1, epochs))\n",
        "        print('-' * 10)\n",
        "        if logging:\n",
        "            print('\\nEpoch {}/{}'.format(epoch+1, epochs), file=log_file)\n",
        "            print('-' * 10, file=log_file)\n",
        "\n",
        "        # Each epoch has a training and validation phase\n",
        "        for phase in ['train','val']:\n",
        "            if phase == 'train':\n",
        "                model.train()\n",
        "            else:\n",
        "                model.eval()\n",
        "\n",
        "            running_loss = 0.0\n",
        "            running_corrects = 0\n",
        "            num_images = 0\n",
        "            \n",
        "            # Iterate over data.\n",
        "            for inputs, labels in dataloaders[phase]:\n",
        "                inputs = inputs.to(device)\n",
        "                labels = labels.to(device)\n",
        "\n",
        "                # zero the parameter gradients\n",
        "                optimizer.zero_grad()\n",
        "\n",
        "                # forward\n",
        "                # track history if only in train\n",
        "                with torch.set_grad_enabled(phase == 'train'):\n",
        "                    outputs = model(inputs)\n",
        "                    _, preds = torch.max(outputs, 1)\n",
        "                    loss = criterion(outputs, labels)\n",
        "\n",
        "                    # backward + optimize only if in training phase\n",
        "                    if phase == 'train':\n",
        "                        loss.backward()\n",
        "                        optimizer.step()\n",
        "\n",
        "                # statistics\n",
        "                num_images += inputs.size(0)\n",
        "                running_loss += loss.item() * inputs.size(0)\n",
        "                running_corrects += torch.sum(preds == labels.data)\n",
        "\n",
        "            if phase == 'train':\n",
        "                scheduler.step()\n",
        "            \n",
        "            #epoch_loss = running_loss / data_sizes[phase]\n",
        "            #epoch_acc = running_corrects.double() / data_sizes[phase]\n",
        "            \n",
        "            # sampling changes dataset size\n",
        "            epoch_loss = running_loss / num_images\n",
        "            epoch_acc = running_corrects.double() / num_images\n",
        "            \n",
        "            loss_history[phase].append(epoch_loss)\n",
        "\n",
        "            print('{} Loss: {:.4f} Acc: {:.4f}'.format(\n",
        "                phase.capitalize(), epoch_loss, epoch_acc))\n",
        "            if logging:\n",
        "                print('{} Loss: {:.4f} Acc: {:.4f}'.format(\n",
        "                    phase.capitalize(), epoch_loss, epoch_acc),file=log_file)\n",
        "\n",
        "            # deep copy the model\n",
        "            if phase == 'val' and epoch_acc > best_acc:\n",
        "                best_acc = epoch_acc\n",
        "                best_model_wts = copy.deepcopy(model.state_dict())\n",
        "                epochs_no_improve = 0\n",
        "                min_loss = epoch_loss\n",
        "            elif phase == 'val' and epoch_acc <= best_acc:\n",
        "                epochs_no_improve += 1\n",
        "                if epochs_no_improve == 5:\n",
        "                    time_elapsed = time.time() - since\n",
        "                    print('\\nEarly stopping! Completed in {:.0f}m {:.0f}s'.format(\n",
        "                            time_elapsed // 60, time_elapsed % 60))\n",
        "                    print('Best val Acc: {:4f}\\n'.format(best_acc))\n",
        "                    if logging:\n",
        "                        print('\\nEarly stopping! Completed in {:.0f}m {:.0f}s'.format(\n",
        "                                time_elapsed // 60, time_elapsed % 60), file=log_file)\n",
        "                        print('Best val Acc: {:4f}\\n'.format(best_acc), file=log_file)\n",
        "                    model.load_state_dict(best_model_wts)\n",
        "                    return model, (loss_history, epoch+1)\n",
        "        \n",
        "        #save checkpoint\n",
        "        if checkpointing:\n",
        "            checkpoint_filename = checkpoint_dir+'LiNet-cp{:03d}.pkl'.format(epoch)\n",
        "            save_checkpoint(scheduler, optimizer, model, loss_history, epoch, checkpoint_filename)\n",
        "            if epoch > 2:\n",
        "                prev_checkpoint = 'LiNet-cp{:03d}.pkl'.format(epoch-2)\n",
        "                os.remove(checkpoint_dir+prev_checkpoint)\n",
        "\n",
        "    time_elapsed = time.time() - since\n",
        "    print('\\nTraining complete in {:.0f}m {:.0f}s'.format(\n",
        "        time_elapsed // 60, time_elapsed % 60))\n",
        "    print('Best val Acc: {:4f}\\n'.format(best_acc))\n",
        "    if logging:\n",
        "        print('\\nTraining complete in {:.0f}m {:.0f}s'.format(\n",
        "            time_elapsed // 60, time_elapsed % 60), file=log_file)\n",
        "        print('Best val Acc: {:4f}\\n'.format(best_acc), file=log_file)\n",
        "        log_file.close()\n",
        "\n",
        "    # load best model weights\n",
        "    model.load_state_dict(best_model_wts)\n",
        "    return model, (loss_history, epoch+1)\n",
        "\n",
        "\n",
        "criterion = nn.CrossEntropyLoss()\n",
        "optimizer = optim.Adam(net.parameters(), lr=1e-4, weight_decay=1e-6)\n",
        "scheduler = lr_scheduler.StepLR(optimizer, step_size=7, gamma=0.1)\n",
        "\n",
        "net = net.to(device)\n",
        "net, history = train_model(net, criterion, optimizer, scheduler, epochs=25,\n",
        "                           logging=True, checkpointing=True)\n",
        "\n",
        "plot_loss(*history)"
      ],
      "execution_count": 10,
      "outputs": [
        {
          "output_type": "stream",
          "text": [
            "Saving checkpoints in: /content/gdrive/My Drive/checkpoints/LiNet/\n",
            "Logging to: /content/gdrive/My Drive/logs/LiNet/LiNet-fc3_adam_lr1e4_decay1e6-log.txt\n",
            "\n",
            "Epoch 1/25\n",
            "----------\n",
            "Train Loss: 0.9984 Acc: 0.6357\n",
            "Val Loss: 0.9360 Acc: 0.6501\n",
            "\n",
            "Epoch 2/25\n",
            "----------\n",
            "Train Loss: 0.8699 Acc: 0.6517\n",
            "Val Loss: 0.8262 Acc: 0.6474\n",
            "\n",
            "Epoch 3/25\n",
            "----------\n",
            "Train Loss: 0.7524 Acc: 0.6579\n",
            "Val Loss: 0.7308 Acc: 0.6541\n",
            "\n",
            "Epoch 4/25\n",
            "----------\n",
            "Train Loss: 0.6535 Acc: 0.9356\n",
            "Val Loss: 0.6484 Acc: 0.9223\n",
            "\n",
            "Epoch 5/25\n",
            "----------\n",
            "Train Loss: 0.5682 Acc: 0.9874\n",
            "Val Loss: 0.5931 Acc: 0.9163\n",
            "\n",
            "Epoch 6/25\n",
            "----------\n",
            "Train Loss: 0.4973 Acc: 0.9895\n",
            "Val Loss: 0.5237 Acc: 0.9359\n",
            "\n",
            "Epoch 7/25\n",
            "----------\n",
            "Train Loss: 0.4349 Acc: 0.9909\n",
            "Val Loss: 0.4858 Acc: 0.9311\n",
            "\n",
            "Epoch 8/25\n",
            "----------\n",
            "Train Loss: 0.4014 Acc: 0.9931\n",
            "Val Loss: 0.4799 Acc: 0.9272\n",
            "\n",
            "Epoch 9/25\n",
            "----------\n",
            "Train Loss: 0.3945 Acc: 0.9939\n",
            "Val Loss: 0.4741 Acc: 0.9277\n",
            "\n",
            "Epoch 10/25\n",
            "----------\n",
            "Train Loss: 0.3887 Acc: 0.9940\n",
            "Val Loss: 0.4727 Acc: 0.9263\n",
            "\n",
            "Epoch 11/25\n",
            "----------\n",
            "Train Loss: 0.3829 Acc: 0.9941\n",
            "Val Loss: 0.4585 Acc: 0.9363\n",
            "\n",
            "Epoch 12/25\n",
            "----------\n",
            "Train Loss: 0.3772 Acc: 0.9945\n",
            "Val Loss: 0.4649 Acc: 0.9226\n",
            "\n",
            "Epoch 13/25\n",
            "----------\n",
            "Train Loss: 0.3717 Acc: 0.9945\n",
            "Val Loss: 0.4573 Acc: 0.9280\n",
            "\n",
            "Epoch 14/25\n",
            "----------\n",
            "Train Loss: 0.3666 Acc: 0.9945\n",
            "Val Loss: 0.4544 Acc: 0.9233\n",
            "\n",
            "Epoch 15/25\n",
            "----------\n",
            "Train Loss: 0.3629 Acc: 0.9949\n",
            "Val Loss: 0.4530 Acc: 0.9254\n",
            "\n",
            "Epoch 16/25\n",
            "----------\n",
            "Train Loss: 0.3621 Acc: 0.9950\n",
            "Val Loss: 0.4481 Acc: 0.9288\n",
            "\n",
            "Early stopping! Completed in 14m 1s\n",
            "Best val Acc: 0.936304\n",
            "\n"
          ],
          "name": "stdout"
        },
        {
          "output_type": "display_data",
          "data": {
            "image/png": "[encoded data removed]",
            "text/plain": [
              "<Figure size 432x288 with 1 Axes>"
            ]
          },
          "metadata": {
            "tags": [],
            "needs_background": "light"
          }
        }
      ]
    },
    {
      "cell_type": "markdown",
      "metadata": {
        "id": "bEH8Y_7HPFrJ"
      },
      "source": [
        "#Evaluate Model"
      ]
    },
    {
      "cell_type": "code",
      "metadata": {
        "id": "URtuBn-yu81W",
        "outputId": "dc721125-0d25-45a0-d1cf-238dccb3d46e",
        "colab": {
          "base_uri": "https://localhost:8080/"
        }
      },
      "source": [
        "def evaluate_model(model, classes, dataloader, out_file_path='accuracy.txt'):\n",
        "    model.cpu()\n",
        "    num_classes = len(classes)\n",
        "    correct = 0\n",
        "    total = 0\n",
        "    class_correct = list(0. for i in range(num_classes))\n",
        "    class_total = list(0. for i in range(num_classes))\n",
        "    y_true = torch.ByteTensor()\n",
        "    y_pred = torch.ByteTensor()\n",
        "\n",
        "    with torch.no_grad():\n",
        "        for images, labels in dataloader:\n",
        "            outputs = model(images)\n",
        "            _, predicted = torch.max(outputs.data, 1)\n",
        "            c = (predicted == labels).squeeze()\n",
        "            num_labels = labels.size(0)\n",
        "            total += num_labels\n",
        "            correct += c.sum().item()\n",
        "            for i in range(num_labels):         # current batch size\n",
        "                label = labels[i]\n",
        "                class_correct[label] += c[i].item()\n",
        "                class_total[label] += 1\n",
        "            y_true = torch.cat((y_true,labels), 0)\n",
        "            y_pred = torch.cat((y_pred,predicted), 0)\n",
        "\n",
        "    with open(out_file_path, \"w\") as out_file:\n",
        "        print('Accuracy of the network on %d test images: %.4f%%'\n",
        "              %(len(y_true), 100*correct/total))\n",
        "        print('Accuracy of the network on %d test images: %.4f%%'\n",
        "              %(len(y_true), 100*correct/total), file=out_file)\n",
        "        for i in range(num_classes):\n",
        "            print('\\tAccuracy of %s : %.4f%%'\n",
        "                  %(classes[i], 100*class_correct[i]/class_total[i]))\n",
        "            print('\\tAccuracy of %s : %.4f%%'\n",
        "                  %(classes[i], 100*class_correct[i]/class_total[i]),\n",
        "                  file=out_file)\n",
        "        print(\"\\nKappa Score: %.4f\" %(cohen_kappa_score(y_true,y_pred)))\n",
        "        print(\"\\nKappa Score: %.4f\" %(cohen_kappa_score(y_true,y_pred)),\n",
        "              file=out_file)\n",
        "        print('\\n',classification_report(y_true, y_pred, target_names=class_names))\n",
        "        print('\\n',classification_report(y_true, y_pred, target_names=class_names),\n",
        "              file=out_file)\n",
        "\n",
        "\n",
        "!mkdir -p \"$root_dir\"\"logs/LiNet/\"\n",
        "out_file_path = root_dir+\"logs/LiNet/LiNet-adam_lr1e4_decay1e6-accuracy.txt\"\n",
        "evaluate_model(net, class_names, dataloaders['test'], out_file_path)"
      ],
      "execution_count": 12,
      "outputs": [
        {
          "output_type": "stream",
          "text": [
            "Accuracy of the network on 4851 test images: 94.4135%\n",
            "\tAccuracy of corridor : 97.5093%\n",
            "\tAccuracy of door : 86.3466%\n",
            "\tAccuracy of room : 99.2687%\n",
            "\n",
            "Kappa Score: 0.9162\n",
            "\n",
            "               precision    recall  f1-score   support\n",
            "\n",
            "    corridor       0.94      0.98      0.96      1606\n",
            "        door       0.97      0.86      0.91      1604\n",
            "        room       0.93      0.99      0.96      1641\n",
            "\n",
            "    accuracy                           0.94      4851\n",
            "   macro avg       0.95      0.94      0.94      4851\n",
            "weighted avg       0.95      0.94      0.94      4851\n",
            "\n"
          ],
          "name": "stdout"
        }
      ]
    },
    {
      "cell_type": "markdown",
      "metadata": {
        "id": "vYFqpMu53yoU"
      },
      "source": [
        "#Make Predictions"
      ]
    },
    {
      "cell_type": "code",
      "metadata": {
        "id": "gRMy2UG_30Ek",
        "outputId": "a29c3ac6-7c21-421c-be54-263766891d3a",
        "colab": {
          "base_uri": "https://localhost:8080/",
          "height": 533
        }
      },
      "source": [
        "def imshow(inp, title=None):\n",
        "    # de-normalize for visualization\n",
        "    inp = inp.numpy().squeeze(0)\n",
        "    inp = std * inp + mean\n",
        "    inp = np.clip(inp, 0, 1)\n",
        "    plt.imshow(inp,'gray')\n",
        "    if title is not None:\n",
        "        plt.title(title)\n",
        "    # pause a bit so that plots are updated\n",
        "    plt.pause(0.001)\n",
        "\n",
        "\n",
        "def predict(model, num_images=4):\n",
        "    was_training = model.training\n",
        "    model.eval()\n",
        "    model.to(device)\n",
        "    images_so_far = 0\n",
        "    fig = plt.figure()\n",
        "\n",
        "    with torch.no_grad():\n",
        "        for inputs, labels in dataloaders['test']:\n",
        "            inputs = inputs.to(device)     # batch x channel x width x height\n",
        "            labels = labels.to(device)\n",
        "\n",
        "            outputs = model(inputs)        # batch x classes\n",
        "            prob = nn.functional.softmax(outputs,dim=1)\n",
        "            prob, idx = prob.sort(1,True)  # batch x classes\n",
        "            \n",
        "            for j in range(inputs.size()[0]):\n",
        "                images_so_far += 1\n",
        "                if num_images == 1:\n",
        "                    ax = plt.subplot(1, 1, 1)\n",
        "                else:\n",
        "                    ax = plt.subplot(num_images//2, 2, images_so_far)\n",
        "                ax.axis('off')\n",
        "                ax.set_title('Predicted {1}/{2} with probability {0:.4f}'.format(prob[j][0],\n",
        "                    class_names[idx[j][0]].capitalize(), class_names[labels[j]].capitalize()))\n",
        "                imshow(inputs.cpu().data[j])\n",
        "\n",
        "                if images_so_far == num_images:\n",
        "                    model.train(mode=was_training)\n",
        "                    return\n",
        "        model.train(mode=was_training)\n",
        "\n",
        "\n",
        "predict(net)"
      ],
      "execution_count": 83,
      "outputs": [
        {
          "output_type": "display_data",
          "data": {
            "image/png": "[encoded data removed]",
            "text/plain": [
              "<Figure size 432x288 with 1 Axes>"
            ]
          },
          "metadata": {
            "tags": [],
            "needs_background": "light"
          }
        },
        {
          "output_type": "display_data",
          "data": {
            "image/png": "[encoded data removed]",
            "text/plain": [
              "<Figure size 432x288 with 1 Axes>"
            ]
          },
          "metadata": {
            "tags": [],
            "needs_background": "light"
          }
        },
        {
          "output_type": "display_data",
          "data": {
            "image/png": "[encoded data removed]",
            "text/plain": [
              "<Figure size 432x288 with 1 Axes>"
            ]
          },
          "metadata": {
            "tags": [],
            "needs_background": "light"
          }
        },
        {
          "output_type": "display_data",
          "data": {
            "image/png": "[encoded data removed]",
            "text/plain": [
              "<Figure size 432x288 with 1 Axes>"
            ]
          },
          "metadata": {
            "tags": [],
            "needs_background": "light"
          }
        }
      ]
    },
    {
      "cell_type": "markdown",
      "metadata": {
        "id": "URsbEwNi4GrY"
      },
      "source": [
        "#Save Trained Model"
      ]
    },
    {
      "cell_type": "code",
      "metadata": {
        "id": "iMlxD6vK4ZDJ"
      },
      "source": [
        "torch.save(net.state_dict(),root_dir+'LiNet-adam_lr1e4_decay1e6.pth')\n",
        "\n",
        "with open(root_dir+'LiNet_categoryIndex.csv','w',newline='') as categoryIndexFile:\n",
        "    categoryIndexWriter = csv.writer(categoryIndexFile, delimiter='\\t')\n",
        "    categoryIndexWriter.writerows(enumerate(class_names))\n",
        "categoryIndexFile.close()"
      ],
      "execution_count": null,
      "outputs": []
    }
  ]
}